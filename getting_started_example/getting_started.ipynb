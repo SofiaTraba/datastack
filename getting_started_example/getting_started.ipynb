{
 "cells": [
  {
   "cell_type": "markdown",
   "metadata": {},
   "source": [
    "# Getting Started"
   ]
  },
  {
   "cell_type": "markdown",
   "metadata": {},
   "source": [
    "### Install datastack via pip\n",
    "\n",
    "Note, that after installation via pip, it might be necessary to restart the kernel to make the datastack package availabe.\n"
   ]
  },
  {
   "cell_type": "code",
   "execution_count": null,
   "metadata": {},
   "outputs": [],
   "source": [
    "!pip install datastack"
   ]
  },
  {
   "cell_type": "markdown",
   "metadata": {},
   "source": [
    "### MNIST Example\n",
    "\n",
    "MNIST is the pre-implemented dataset that can be seen as a blueprint for custom dataset implementations. "
   ]
  },
  {
   "cell_type": "code",
   "execution_count": 5,
   "metadata": {},
   "outputs": [],
   "source": [
    "from data_stack.mnist.factory import MNISTFactory\n",
    "from data_stack.io.storage_connectors import FileStorageConnector\n"
   ]
  },
  {
   "cell_type": "code",
   "execution_count": 12,
   "metadata": {},
   "outputs": [],
   "source": [
    "# create file storage connector to store and retrieve the dataset\n",
    "dataset_path = \"./datasets/\"   # specify dataset path\n",
    "storage_connector = FileStorageConnector(root_path=dataset_path)"
   ]
  },
  {
   "cell_type": "markdown",
   "metadata": {},
   "source": [
    "We instantiate the MNIST factory by passing the `storage_connector`. If the dataset has been already downloaded it is being only loaded from the local disc.\n",
    "In this example here, the MNIST dataset is not present locally and is thus being donwloaded (see log outputs).\n"
   ]
  },
  {
   "cell_type": "code",
   "execution_count": 13,
   "metadata": {},
   "outputs": [
    {
     "name": "stderr",
     "output_type": "stream",
     "text": [
      "2022-01-30 00:52:58,519 - DataHub - DEBUG - Created temporary directory /tmp/tmpololuio4 for downloading resources...\n",
      "2022-01-30 00:52:58,519 - DataHub - DEBUG - Downloading data file from http://ossci-datasets.s3.amazonaws.com/mnist/train-images-idx3-ubyte.gz ...\n"
     ]
    },
    {
     "name": "stdout",
     "output_type": "stream",
     "text": [
      "Downloading http://ossci-datasets.s3.amazonaws.com/mnist/train-images-idx3-ubyte.gz to /tmp/tmpololuio4/train-images-idx3-ubyte.gz\n"
     ]
    },
    {
     "name": "stderr",
     "output_type": "stream",
     "text": [
      "9913344it [00:01, 5962118.85it/s]                             \n",
      "2022-01-30 00:53:03,267 - DataHub - DEBUG - Done.\n",
      "2022-01-30 00:53:03,290 - DataHub - DEBUG - Downloading data file from http://ossci-datasets.s3.amazonaws.com/mnist/train-labels-idx1-ubyte.gz ...\n"
     ]
    },
    {
     "name": "stdout",
     "output_type": "stream",
     "text": [
      "Downloading http://ossci-datasets.s3.amazonaws.com/mnist/train-labels-idx1-ubyte.gz to /tmp/tmpololuio4/train-labels-idx1-ubyte.gz\n"
     ]
    },
    {
     "name": "stderr",
     "output_type": "stream",
     "text": [
      "29696it [00:00, 1124672.01it/s]          \n",
      "2022-01-30 00:53:04,227 - DataHub - DEBUG - Done.\n",
      "2022-01-30 00:53:04,228 - DataHub - DEBUG - Downloading data file from https://ossci-datasets.s3.amazonaws.com/mnist/t10k-images-idx3-ubyte.gz ...\n"
     ]
    },
    {
     "name": "stdout",
     "output_type": "stream",
     "text": [
      "Downloading https://ossci-datasets.s3.amazonaws.com/mnist/t10k-images-idx3-ubyte.gz to /tmp/tmpololuio4/t10k-images-idx3-ubyte.gz\n"
     ]
    },
    {
     "name": "stderr",
     "output_type": "stream",
     "text": [
      "1649664it [00:00, 1928038.52it/s]                           \n",
      "2022-01-30 00:53:06,457 - DataHub - DEBUG - Done.\n",
      "2022-01-30 00:53:06,464 - DataHub - DEBUG - Downloading data file from https://ossci-datasets.s3.amazonaws.com/mnist/t10k-labels-idx1-ubyte.gz ...\n"
     ]
    },
    {
     "name": "stdout",
     "output_type": "stream",
     "text": [
      "Downloading https://ossci-datasets.s3.amazonaws.com/mnist/t10k-labels-idx1-ubyte.gz to /tmp/tmpololuio4/t10k-labels-idx1-ubyte.gz\n"
     ]
    },
    {
     "name": "stderr",
     "output_type": "stream",
     "text": [
      "5120it [00:00, 3398454.89it/s]          \n",
      "2022-01-30 00:53:07,853 - DataHub - DEBUG - Done.\n",
      "2022-01-30 00:53:07,854 - DataHub - DEBUG - Storing resource mnist/raw/samples_train.gz\n",
      "2022-01-30 00:53:07,887 - DataHub - DEBUG - Storing resource mnist/raw/labels_train.gz\n",
      "2022-01-30 00:53:07,889 - DataHub - DEBUG - Storing resource mnist/raw/samples_test.gz\n",
      "2022-01-30 00:53:07,896 - DataHub - DEBUG - Storing resource mnist/raw/targets.gz\n",
      "2022-01-30 00:53:11,049 - DataHub - DEBUG - Storing resource mnist/preprocessed/train/samples.pt\n",
      "2022-01-30 00:53:11,524 - DataHub - DEBUG - Storing resource mnist/preprocessed/train/targets.pt\n",
      "2022-01-30 00:53:12,014 - DataHub - DEBUG - Storing resource mnist/preprocessed/test/samples.pt\n",
      "2022-01-30 00:53:12,179 - DataHub - DEBUG - Storing resource mnist/preprocessed/test/targets.pt\n"
     ]
    }
   ],
   "source": [
    "mnist_factory = MNISTFactory(storage_connector)\n",
    "mnist_iterator, _ = mnist_factory.get_dataset_iterator(config={\"split\": \"train\"})"
   ]
  },
  {
   "cell_type": "markdown",
   "metadata": {},
   "source": [
    "The raw and preprocessed datasets are stored within the folder `mnist` under `datasets`, as specified above."
   ]
  },
  {
   "cell_type": "code",
   "execution_count": 17,
   "metadata": {},
   "outputs": [
    {
     "name": "stdout",
     "output_type": "stream",
     "text": [
      "samples.pt  targets.pt\n"
     ]
    }
   ],
   "source": [
    "ls datasets/mnist/preprocessed/train"
   ]
  },
  {
   "cell_type": "markdown",
   "metadata": {},
   "source": [
    "Now, we can directly index elements or easily iterate through the dataset."
   ]
  },
  {
   "cell_type": "code",
   "execution_count": 19,
   "metadata": {},
   "outputs": [
    {
     "name": "stdout",
     "output_type": "stream",
     "text": [
      "Sample has target 5 and tag 5 and has a shape of torch.Size([28, 28])\n"
     ]
    },
    {
     "data": {
      "image/png": "[encoded data removed]",
      "text/plain": [
       "<Figure size 432x288 with 1 Axes>"
      ]
     },
     "metadata": {
      "needs_background": "light"
     },
     "output_type": "display_data"
    }
   ],
   "source": [
    "img, target, tag = mnist_iterator[0]\n",
    "print(f\"Sample has target {target} and tag {tag} and has a shape of {img.shape}\")\n",
    "\n",
    "# visualize the sample\n",
    "from matplotlib import pyplot as plt\n",
    "plt.imshow(img)\n",
    "plt.show()"
   ]
  },
  {
   "cell_type": "code",
   "execution_count": 23,
   "metadata": {},
   "outputs": [
    {
     "data": {
      "text/plain": [
       "Counter({5: 5421,\n",
       "         0: 5923,\n",
       "         4: 5842,\n",
       "         1: 6742,\n",
       "         9: 5949,\n",
       "         2: 5958,\n",
       "         3: 6131,\n",
       "         6: 5918,\n",
       "         7: 6265,\n",
       "         8: 5851})"
      ]
     },
     "execution_count": 23,
     "metadata": {},
     "output_type": "execute_result"
    }
   ],
   "source": [
    "from collections import Counter\n",
    "\n",
    "targets = [t for _, t, _ in mnist_iterator]\n",
    "Counter(targets)"
   ]
  },
  {
   "cell_type": "code",
   "execution_count": null,
   "metadata": {},
   "outputs": [],
   "source": []
  }
 ],
 "metadata": {
  "interpreter": {
   "hash": "aa32cf18dba5404d75dca64c96f255bf152d344168e7abb545dfa6363d618b0c"
  },
  "kernelspec": {
   "display_name": "Python 3.7.7 64-bit ('max_env': conda)",
   "name": "python3"
  },
  "language_info": {
   "codemirror_mode": {
    "name": "ipython",
    "version": 3
   },
   "file_extension": ".py",
   "mimetype": "text/x-python",
   "name": "python",
   "nbconvert_exporter": "python",
   "pygments_lexer": "ipython3",
   "version": "3.7.7"
  }
 },
 "nbformat": 4,
 "nbformat_minor": 4
}
